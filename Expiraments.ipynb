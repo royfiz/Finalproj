{
  "cells": [
    {
      "cell_type": "markdown",
      "metadata": {
        "id": "d6O4nQY8PSYX"
      },
      "source": [
        "# Install"
      ]
    },
    {
      "cell_type": "code",
      "execution_count": 4,
      "metadata": {
        "colab": {
          "base_uri": "https://localhost:8080/"
        },
        "id": "dBm23hhP1H90",
        "outputId": "13a9793b-d4fb-4fa7-dfa5-bb5b66dcbf85"
      },
      "outputs": [
        {
          "output_type": "stream",
          "name": "stdout",
          "text": [
            "openjdk-8-jdk-headless is already the newest version (8u312-b07-0ubuntu1~18.04).\n",
            "0 upgraded, 0 newly installed, 0 to remove and 61 not upgraded.\n"
          ]
        }
      ],
      "source": [
        "!pip install -q google-cloud-storage==1.43.0\n",
        "!pip install -q pyspark\n",
        "!pip install -U -q PyDrive\n",
        "!apt-get update -qq\n",
        "!apt install openjdk-8-jdk-headless -qq"
      ]
    },
    {
      "cell_type": "code",
      "execution_count": 5,
      "metadata": {
        "id": "fJtlrhxOt_Qy"
      },
      "outputs": [],
      "source": [
        "!pip install -q google-cloud-storage==1.43.0"
      ]
    },
    {
      "cell_type": "markdown",
      "metadata": {
        "id": "SFkhcB8A1IJP"
      },
      "source": [
        "# Imports, constants and data"
      ]
    },
    {
      "cell_type": "markdown",
      "metadata": {
        "id": "IA6Udo0N1a75"
      },
      "source": [
        "Imports"
      ]
    },
    {
      "cell_type": "code",
      "execution_count": 6,
      "metadata": {
        "id": "n7eWqH6gOOXk"
      },
      "outputs": [],
      "source": [
        "from google.cloud import storage\n",
        "from google.cloud import *\n",
        "\n",
        "from imports import *\n",
        "from builtins import *\n",
        "\n",
        "from pyspark.sql import *\n",
        "from pyspark.sql.functions import *\n",
        "from pyspark import SparkContext, SparkConf, SparkFiles\n",
        "from pyspark.sql import SQLContext"
      ]
    },
    {
      "cell_type": "markdown",
      "metadata": {
        "id": "cuKl1P9f1oVL"
      },
      "source": [
        "Bucket stuff"
      ]
    },
    {
      "cell_type": "code",
      "execution_count": 7,
      "metadata": {
        "id": "rVe4pjg71YWz"
      },
      "outputs": [],
      "source": [
        "from inverted_index_colab import *"
      ]
    },
    {
      "cell_type": "code",
      "execution_count": 8,
      "metadata": {
        "id": "zFZbMjS-Hlsh"
      },
      "outputs": [],
      "source": [
        "bucket_name = '316431873' "
      ]
    },
    {
      "cell_type": "code",
      "execution_count": 9,
      "metadata": {
        "id": "RraNpiG5QBgC"
      },
      "outputs": [],
      "source": [
        "path = \"postings_gcp_anc\"\n",
        "client = storage.Client.from_service_account_json(\"optimistic-jet-334418-efae840be978.json\")"
      ]
    },
    {
      "cell_type": "code",
      "execution_count": 52,
      "metadata": {
        "id": "sRey5C6PQIHJ"
      },
      "outputs": [],
      "source": [
        "bucket = client.bucket(bucket_name)\n",
        "blobs = client.list_blobs(bucket_name)"
      ]
    },
    {
      "cell_type": "markdown",
      "metadata": {
        "id": "n9xKLa1E1uQv"
      },
      "source": [
        "Indexes"
      ]
    },
    {
      "cell_type": "code",
      "execution_count": 10,
      "metadata": {
        "id": "Ztl16pWWR-wW"
      },
      "outputs": [],
      "source": [
        "# import pickle\n",
        "with open( f'{\"index_text\"}.pkl', 'rb') as f:\n",
        "  index_body  = pickle.load(f)\n",
        "with open( f'{\"title_index\"}.pkl', 'rb') as f:\n",
        "  index_title  = pickle.load(f)\n",
        "with open( f'{\"indexses_index_anc\"}.pkl', 'rb') as f:\n",
        "  index_anchor  = pickle.load(f)"
      ]
    },
    {
      "cell_type": "code",
      "execution_count": 11,
      "metadata": {
        "id": "A0xhXD1rNctm"
      },
      "outputs": [],
      "source": [
        "with open( f'{\"Dl_body\"}.pkl', 'rb') as f:\n",
        "  DL_body  = pickle.load(f)\n",
        "with open( f'{\"dl_title\"}.pkl', 'rb') as f:\n",
        "  DL_title  = pickle.load(f)\n",
        "with open( f'{\"id_title_dict\"}.pkl', 'rb') as f:\n",
        "  id_title_dict  = pickle.load(f)"
      ]
    },
    {
      "cell_type": "code",
      "execution_count": 12,
      "metadata": {
        "id": "6hPqe5wGW5Ao"
      },
      "outputs": [],
      "source": [
        "index_title.path = \"postings_gcp_title\"\n",
        "index_anchor.path =  \"postings_gcp_anc\"\n",
        "index_body.path = \"postings_gcp_text\"\n",
        "\n",
        "index_title.words = set(index_title.df.keys())\n",
        "index_anchor.words =  set(index_anchor.df.keys())\n",
        "index_body.words = set(index_body.df.keys())"
      ]
    },
    {
      "cell_type": "markdown",
      "metadata": {
        "id": "Tr2CYFsrMnO2"
      },
      "source": [
        "# Read posting list"
      ]
    },
    {
      "cell_type": "code",
      "execution_count": 13,
      "metadata": {
        "id": "cOgPA82SWW4-"
      },
      "outputs": [],
      "source": [
        "TUPLE_SIZE = 6\n",
        "BLOCK_SIZE = 1999998\n",
        "\n",
        "def read_posting(word, index):\n",
        "    client = storage.Client.from_service_account_json(\"optimistic-jet-334418-efae840be978.json\")\n",
        "    bucket = client.bucket(bucket_name)\n",
        "    b = []\n",
        "    posting_list = [] \n",
        "    df = index.df[word]\n",
        "    with closing(MultiFileReader()) as reader:\n",
        "        locs = index.posting_locs[word]\n",
        "        n_bytes = index.df[word] * TUPLE_SIZE\n",
        "#         b = reader.read(locs, n_bytes)\n",
        "        for f_name, offset in locs:\n",
        "                post_before = \"\"\n",
        "                blob = bucket.blob(f\"{index.path}/{f_name}\")\n",
        "                blob.download_to_filename(\"yo\")\n",
        "                f = open(\"yo\" , 'rb')\n",
        "                f.seek(offset)\n",
        "                lst = [n_bytes , BLOCK_SIZE - offset]\n",
        "                if lst[0] <= (BLOCK_SIZE - offset):\n",
        "                    n_read = n_bytes\n",
        "                else: \n",
        "                    n_read = BLOCK_SIZE - offset\n",
        "\n",
        "                b.append(f.read(n_read))\n",
        "                n_bytes -= n_read\n",
        "                post_before = b''.join(b)\n",
        "                for i in range(df):\n",
        "                    doc_id = int.from_bytes(post_before[i*TUPLE_SIZE:i*TUPLE_SIZE+4], 'big')\n",
        "                    tf = int.from_bytes(post_before[i*TUPLE_SIZE+4:(i+1)*TUPLE_SIZE], 'big')\n",
        "                    posting_list.append((doc_id, tf))\n",
        "        return posting_list"
      ]
    },
    {
      "cell_type": "code",
      "execution_count": 14,
      "metadata": {
        "id": "CVlXdu1cMNBw"
      },
      "outputs": [],
      "source": [
        "def read_posting_anchor(word, index):\n",
        "    client = storage.Client.from_service_account_json(\"optimistic-jet-334418-efae840be978.json\")\n",
        "    bucket = client.bucket(bucket_name)\n",
        "    b = []\n",
        "    posting_list = [] \n",
        "    df = index.df[word]\n",
        "    with closing(MultiFileReader()) as reader:\n",
        "        locs = index.posting_locs[word]\n",
        "        n_bytes = index.df[word] * TUPLE_SIZE\n",
        "#         b = reader.read(locs, n_bytes)\n",
        "        for f_name, offset in locs:\n",
        "                post_before = \"\"\n",
        "                blob = bucket.blob(f\"{index.path}/{f_name}\")\n",
        "                blob.download_to_filename(\"yo\")\n",
        "                f = open(\"yo\" , 'rb')\n",
        "                f.seek(offset)\n",
        "                lst = [n_bytes , BLOCK_SIZE - offset]\n",
        "                if lst[0] <= (BLOCK_SIZE - offset):\n",
        "                    n_read = n_bytes\n",
        "                else: \n",
        "                    n_read = BLOCK_SIZE - offset\n",
        "\n",
        "                b.append(f.read(n_read))\n",
        "                n_bytes -= n_read\n",
        "                post_before = b''.join(b)\n",
        "                for i in range(df):\n",
        "                    doc_id = int.from_bytes(post_before[i*TUPLE_SIZE:i*TUPLE_SIZE+4], 'big')\n",
        "                    tf = int.from_bytes(post_before[i*TUPLE_SIZE+4:(i+1)*TUPLE_SIZE], 'big')\n",
        "                    posting_list.append((doc_id, tf))\n",
        "        return list(set(posting_list))"
      ]
    },
    {
      "cell_type": "markdown",
      "metadata": {
        "id": "nlEx0LbQMcG-"
      },
      "source": [
        "# Import queries"
      ]
    },
    {
      "cell_type": "code",
      "execution_count": 2,
      "metadata": {
        "id": "Zkm5kNGZ8S_a"
      },
      "outputs": [],
      "source": [
        "import json\n",
        "from sklearn.model_selection import train_test_split"
      ]
    },
    {
      "cell_type": "code",
      "execution_count": 3,
      "metadata": {
        "id": "USzJkK7M-uhB"
      },
      "outputs": [],
      "source": [
        "f = open('queries_train.json')\n",
        "''' \n",
        "    queries_to_relavent_docs is a dictionary of length 30 with -\n",
        "          key: query (str)\n",
        "          value: list of relavent documents id's (list)\n",
        "'''\n",
        "queries_to_relavent_docs = json.load(f)\n",
        "f.close()\n",
        "\n",
        "'''10 test queries and 20 train queries'''\n",
        "train_queries, test_queries = train_test_split(list(queries_to_relavent_docs.keys()), test_size=10, shuffle=True)\n",
        "all_queries = list(queries_to_relavent_docs.keys())"
      ]
    },
    {
      "cell_type": "markdown",
      "metadata": {
        "id": "BJ5lqnCSMYwW"
      },
      "source": [
        "# Preprossesing"
      ]
    },
    {
      "cell_type": "code",
      "execution_count": 15,
      "metadata": {
        "colab": {
          "base_uri": "https://localhost:8080/"
        },
        "id": "B3RS8o81-w90",
        "outputId": "5cf9356f-774e-4453-c506-a6848d26cbff"
      },
      "outputs": [
        {
          "output_type": "stream",
          "name": "stdout",
          "text": [
            "[nltk_data] Downloading package stopwords to /root/nltk_data...\n",
            "[nltk_data]   Package stopwords is already up-to-date!\n"
          ]
        }
      ],
      "source": [
        "from nltk.corpus import stopwords\n",
        "nltk.download('stopwords')\n",
        "\n",
        "english_stopwords = frozenset(stopwords.words('english'))\n",
        "corpus_stopwords = [\"category\", \"references\", \"also\", \"external\", \"links\", \n",
        "                    \"may\", \"first\", \"see\", \"history\", \"people\", \"one\", \"two\", \n",
        "                    \"part\", \"thumb\", \"including\", \"second\", \"following\", \n",
        "                    \"many\", \"however\", \"would\", \"became\"]\n",
        "corpus_stopwords = set(corpus_stopwords)\n",
        "all_stopwords = english_stopwords.union(corpus_stopwords)\n",
        "RE_WORD = re.compile(r\"\"\"[\\#\\@\\w](['\\-]?\\w){2,24}\"\"\", re.UNICODE)\n",
        "\n",
        "def query_preprosess(text):\n",
        "  ''' \n",
        "  -----------\n",
        "    text: str\n",
        "      Text of one document\n",
        "    id: int\n",
        "      Document id\n",
        "  Returns:\n",
        "  --------\n",
        "    List of tuples\n",
        "      A list of (token, (doc_id, tf)) pairs \n",
        "      for example: [(\"Anarchism\", (12, 5)), ...]\n",
        "  '''\n",
        "  tokens = [token.group() for token in RE_WORD.finditer(text.lower())]\n",
        "  ans = [word for word in tokens if word not in all_stopwords]\n",
        "  return ans"
      ]
    },
    {
      "cell_type": "markdown",
      "metadata": {
        "id": "tZBm1QYOzeMH"
      },
      "source": [
        "# Search anchor binary\n"
      ]
    },
    {
      "cell_type": "code",
      "execution_count": 61,
      "metadata": {
        "id": "DUVNE_TKzeYe"
      },
      "outputs": [],
      "source": [
        "def search_anchor(query_tokens, index):\n",
        "  relavent_docs = {}\n",
        "  for term in np.unique(query_tokens):\n",
        "    if term in index.words:\n",
        "      list_of_docs = read_posting_anchor(term, index)\n",
        "      for dest_id, flag in list_of_docs:\n",
        "          if dest_id == 0:\n",
        "            continue\n",
        "          #print(dest_id)\n",
        "          relavent_docs[dest_id] = relavent_docs.get(dest_id,0) + 1\n",
        "  relavent_docs_list_sorted = sorted(relavent_docs.keys(), key = lambda doc_id: - relavent_docs[doc_id])\n",
        "  relavent_docs_list_sorted_with_title = [(i, id_title_dict[i]) for i in relavent_docs_list_sorted]\n",
        "  return relavent_docs_list_sorted_with_title"
      ]
    },
    {
      "cell_type": "code",
      "execution_count": 62,
      "metadata": {
        "id": "_NHEHW_L7ASx"
      },
      "outputs": [],
      "source": [
        "def search_anchor_for_opt(query_tokens, index):\n",
        "  relavent_docs = {}\n",
        "  for term in np.unique(query_tokens):\n",
        "    if term in index.words:\n",
        "      list_of_docs = read_posting_anchor(term, index)\n",
        "      for dest_id, flag in list_of_docs:\n",
        "          if dest_id == 0:\n",
        "            continue\n",
        "          #print(dest_id)\n",
        "          relavent_docs[dest_id] = relavent_docs.get(dest_id,0) + 10\n",
        "  return relavent_docs"
      ]
    },
    {
      "cell_type": "markdown",
      "metadata": {
        "id": "DmogR7LvMQn_"
      },
      "source": [
        "# Search title binary"
      ]
    },
    {
      "cell_type": "code",
      "execution_count": 63,
      "metadata": {
        "id": "3ag8r1KI-q5l"
      },
      "outputs": [],
      "source": [
        "def search_title(query_tokens, index):\n",
        "  relavent_docs = {}\n",
        "  for term in np.unique(query_tokens):\n",
        "    if term in index.words:\n",
        "      list_of_docs = read_posting(term, index)\n",
        "      for doc_id, freq in list_of_docs:\n",
        "        if doc_id == 0:\n",
        "          continue\n",
        "        relavent_docs[doc_id] = relavent_docs.get(doc_id,0) + 1\n",
        "  relavent_docs_list_sorted = sorted(relavent_docs.keys(), key = lambda doc_id: - relavent_docs[doc_id])[:100] # 100 max!!\n",
        "  relavent_docs_list_sorted_with_title = [(i, id_title_dict[i]) for i in relavent_docs_list_sorted]\n",
        "  return relavent_docs_list_sorted_with_title"
      ]
    },
    {
      "cell_type": "code",
      "execution_count": 64,
      "metadata": {
        "colab": {
          "base_uri": "https://localhost:8080/"
        },
        "id": "AXi_p02tKKDG",
        "outputId": "6f3b3cfe-de9d-4f8c-bc8b-f387a9bea5b2"
      },
      "outputs": [
        {
          "output_type": "execute_result",
          "data": {
            "text/plain": [
              "100"
            ]
          },
          "metadata": {},
          "execution_count": 64
        }
      ],
      "source": [
        "len(search_title([\"python\", \"code\", \"script\"], index_title))"
      ]
    },
    {
      "cell_type": "markdown",
      "metadata": {
        "id": "OirRpnu3TCtw"
      },
      "source": [
        "# Page rank"
      ]
    },
    {
      "cell_type": "code",
      "execution_count": 17,
      "metadata": {
        "id": "WrF_Ug6eTC2Q"
      },
      "outputs": [],
      "source": [
        "import csv\n",
        "pagerank_dict = dict()\n",
        "with open('pagerank.csv', mode='r') as infile:\n",
        "    reader = csv.reader(infile)\n",
        "    for rows in reader:\n",
        "      try:\n",
        "        pagerank_dict[int(rows[0])] = float(rows[1])\n",
        "      except:\n",
        "        print(int(rows[0]))"
      ]
    },
    {
      "cell_type": "markdown",
      "metadata": {
        "id": "KxDJsXJRxL1E"
      },
      "source": [
        "normelize"
      ]
    },
    {
      "cell_type": "code",
      "execution_count": 66,
      "metadata": {
        "id": "eNPLuZYQxLSr"
      },
      "outputs": [],
      "source": [
        "norm_pagerank_dict = dict()\n",
        "\n",
        "\n",
        "sum_before = 0\n",
        "sum_after = 0\n",
        "length = len(pagerank_dict)\n",
        "key_median = list(pagerank_dict.keys())[int(length / 2)]\n",
        "median_before = pagerank_dict[key_median]\n",
        "for page in pagerank_dict:\n",
        "  sum_before += pagerank_dict[page]\n",
        "  norm_pagerank_dict[page] = np.sqrt(pagerank_dict[page]) / 3\n",
        "  sum_after += norm_pagerank_dict[page]\n",
        "median_after = norm_pagerank_dict[key_median]"
      ]
    },
    {
      "cell_type": "code",
      "execution_count": null,
      "metadata": {
        "colab": {
          "base_uri": "https://localhost:8080/"
        },
        "id": "c1ekDYFbxwrm",
        "outputId": "431786bc-7536-430a-e85d-53fbc9ae7ead"
      },
      "outputs": [
        {
          "output_type": "stream",
          "name": "stdout",
          "text": [
            "1.0000000000249587\n",
            "0.23109642975427994\n",
            "0.2515575284859404\n",
            "0.16718503670615328\n"
          ]
        }
      ],
      "source": [
        "mean_before = sum_before / length\n",
        "mean_after = sum_after / length\n",
        "print(mean_before)\n",
        "print(mean_after)\n",
        "print(median_before)\n",
        "print(median_after)\n",
        "print(max(list(norm_pagerank_dict.values())))\n",
        "print(min(list(norm_pagerank_dict.values())))"
      ]
    },
    {
      "cell_type": "markdown",
      "metadata": {
        "id": "f4kFPBIqxVBP"
      },
      "source": [
        "exe on list"
      ]
    },
    {
      "cell_type": "code",
      "execution_count": null,
      "metadata": {
        "id": "6nAPUiDxwtWt"
      },
      "outputs": [],
      "source": [
        "def get_page_rank_by_id(id):\n",
        "    return pagerank_dict[id]\n",
        "\n",
        "vec_get_page_rank_by_id = np.vectorize(get_page_rank_by_id)"
      ]
    },
    {
      "cell_type": "code",
      "execution_count": null,
      "metadata": {
        "id": "ziCpsV2gwsWp"
      },
      "outputs": [],
      "source": [
        "def get_page_rank(articles_ids):\n",
        "    articles_ids = np.array(articles_ids)\n",
        "    ans = vec_get_page_rank_by_id(articles_ids)\n",
        "    return list(ans)"
      ]
    },
    {
      "cell_type": "markdown",
      "metadata": {
        "id": "QO-Ay6dPPhd8"
      },
      "source": [
        "#Inverted tf-idf Cosine"
      ]
    },
    {
      "cell_type": "markdown",
      "metadata": {
        "id": "HzX0KsIUrYeW"
      },
      "source": [
        "title"
      ]
    },
    {
      "cell_type": "code",
      "execution_count": 68,
      "metadata": {
        "id": "7ZBQdfKZOGZq"
      },
      "outputs": [],
      "source": [
        "N = 6348910 # num of documents in the curpus\n",
        "to_return = 100\n",
        "def inverted_cosine_similaruty_tfidf_title(query_tokens,index):\n",
        "  similarity_dict = dict() # doc_id : cosine similarity\n",
        "  query_w = Counter(query_tokens) # weights of words in the query\n",
        "  query_norm = 1 / len(query_tokens) # 1 / |q|\n",
        "  docs_norm = dict() # doc_id: 1 / |di|\n",
        "  for term in set(query_tokens):\n",
        "    if term in index.words:\n",
        "      query_term_w = query_w[term]\n",
        "      posting_list = read_posting(term, index)\n",
        "      df = index.df[term]\n",
        "      idf = np.log(N / df)\n",
        "      for doc_id, freq in posting_list:\n",
        "        if doc_id == 0:\n",
        "          continue\n",
        "        docs_norm[doc_id] = 1 / DL_body[doc_id]\n",
        "        tf = freq / DL_body[doc_id] # TODO: title DL\n",
        "        w = tf * idf\n",
        "        similarity_dict[doc_id] = similarity_dict.get(doc_id, 0) + w * query_term_w\n",
        "  for doc_id in similarity_dict.keys():\n",
        "    similarity_dict[doc_id] = similarity_dict[doc_id] * query_norm * docs_norm[doc_id]\n",
        "  similarity_list = similarity_dict.items() # [(doc_id, similarity_score)]\n",
        "  sorted_similarity_list = sorted(similarity_list, key = lambda x: -x[1])[:to_return]\n",
        "  sorted_similarity_list_with_title = [(doc[0], id_title_dict[doc[0]]) for doc in sorted_similarity_list]\n",
        "  return sorted_similarity_list_with_title"
      ]
    },
    {
      "cell_type": "markdown",
      "metadata": {
        "id": "CDLGD_UlrZtF"
      },
      "source": [
        "body"
      ]
    },
    {
      "cell_type": "code",
      "execution_count": 69,
      "metadata": {
        "id": "xyP9zBkerAE3"
      },
      "outputs": [],
      "source": [
        "N = 6348910 # num of documents in the curpus\n",
        "to_return = 100\n",
        "def inverted_cosine_similaruty_tfidf_body(query_tokens,index):\n",
        "  similarity_dict = dict() # doc_id : cosine similarity\n",
        "  query_w = Counter(query_tokens) # weights of words in the query\n",
        "  #query_norm = 1 / len(query_tokens) # 1 / |q|\n",
        "  #docs_norm = dict() # doc_id: 1 / |di|\n",
        "  for term in set(query_tokens):\n",
        "    if term in index.words:\n",
        "      query_term_w = query_w[term]\n",
        "      posting_list = read_posting(term, index)\n",
        "      df = index.df[term]\n",
        "      idf = np.log(N / df)\n",
        "      for doc_id, freq in posting_list:\n",
        "        if doc_id == 0:\n",
        "          continue\n",
        "        #docs_norm[doc_id] = 1 / DL_title[doc_id]\n",
        "        tf = freq / DL_body[doc_id] # TODO: title DL\n",
        "        w = tf * idf\n",
        "        similarity_dict[doc_id] = similarity_dict.get(doc_id, 0) + w * query_term_w\n",
        "  for doc_id in similarity_dict.keys():\n",
        "    similarity_dict[doc_id] = similarity_dict[doc_id]# * query_norm * docs_norm[doc_id]\n",
        "  similarity_list = similarity_dict.items() # [(doc_id, similarity_score)]\n",
        "  sorted_similarity_list = sorted(similarity_list, key = lambda x: -x[1])[:to_return]\n",
        "  sorted_similarity_list_with_title = [(doc[0], id_title_dict[doc[0]]) for doc in sorted_similarity_list]\n",
        "  return sorted_similarity_list_with_title"
      ]
    },
    {
      "cell_type": "code",
      "execution_count": null,
      "metadata": {
        "id": "fzFG8cPGUkMh"
      },
      "outputs": [],
      "source": [
        "#print(read_posting(\"python\",index_body))\n",
        "query = train_queries[4]\n",
        "print(query)\n",
        "query = query_preprosess(query)\n",
        "print(query)\n",
        "inverted_cosine_similaruty_tfidf_body(query, index_body)"
      ]
    },
    {
      "cell_type": "markdown",
      "metadata": {
        "id": "jRR1aRzTYroB"
      },
      "source": [
        "# Get pageview"
      ]
    },
    {
      "cell_type": "code",
      "execution_count": 18,
      "metadata": {
        "id": "Eh_wLu6cYyTI"
      },
      "outputs": [],
      "source": [
        "PAGE_VIEW_FILE_NAME = \"pageviews-202108-user.pkl\"\n",
        "with open(PAGE_VIEW_FILE_NAME, 'rb') as f:\n",
        "  pageviews_dict = pickle.loads(f.read())\n",
        "\n",
        "\n",
        "def get_page_view_by_id(id):\n",
        "    return pageviews_dict[id]\n",
        "\n",
        "vec_get_page_rank_by_id = np.vectorize(get_page_view_by_id)\n",
        "\n",
        "# Function def\n",
        "def get_pageview_beckend(articles_ids):\n",
        "  num_articles = len(articles_ids)\n",
        "  ans = [0 for i in range(num_articles)]\n",
        "  for i in range(num_articles):\n",
        "    article_id = articles_ids[i]\n",
        "    ans[i] = pageviews_dict[article_id]\n",
        "  return ans"
      ]
    },
    {
      "cell_type": "code",
      "execution_count": 72,
      "metadata": {
        "id": "dll96J0XZAu9"
      },
      "outputs": [],
      "source": [
        "def get_page_view(articles_ids):\n",
        "    articles_ids = np.array(articles_ids)\n",
        "    ans = vec_get_page_rank_by_id(articles_ids)\n",
        "    return list(ans)"
      ]
    },
    {
      "cell_type": "code",
      "execution_count": 73,
      "metadata": {
        "id": "ulgKLaqlZDg0",
        "colab": {
          "base_uri": "https://localhost:8080/"
        },
        "outputId": "aba2b320-a407-40e2-f012-7d90e4fac2af"
      },
      "outputs": [
        {
          "output_type": "stream",
          "name": "stdout",
          "text": [
            "[52, 28713, 528, 4285, 61650, 23, 7, 1450, 9, 779]\n"
          ]
        }
      ],
      "source": [
        "test_articles = [5878274, 7712754, 3632887, 600744, 59804426, 63743203, 34443176, 4838455, 11011780, 4822278]\n",
        "print(get_page_view(test_articles))"
      ]
    },
    {
      "cell_type": "markdown",
      "metadata": {
        "id": "SpWJpKfW0ZwL"
      },
      "source": [
        "Normelize"
      ]
    },
    {
      "cell_type": "code",
      "execution_count": 74,
      "metadata": {
        "id": "RmE2eWFN0b6t"
      },
      "outputs": [],
      "source": [
        "norm_pageviews_dict = dict()\n",
        "\n",
        "\n",
        "sum_before = 0\n",
        "sum_after = 0\n",
        "length = len(pageviews_dict)\n",
        "key_median = list(pageviews_dict.keys())[int(length / 2)]\n",
        "median_before = pageviews_dict[key_median]\n",
        "for page in pageviews_dict:\n",
        "  sum_before += pageviews_dict[page]\n",
        "  norm_pageviews_dict[page] = pageviews_dict[page] ** (0.25) / 3\n",
        "  sum_after += norm_pageviews_dict[page]\n",
        "median_after = norm_pageviews_dict[key_median]"
      ]
    },
    {
      "cell_type": "code",
      "execution_count": 75,
      "metadata": {
        "id": "UwjDZyoI0nJW",
        "colab": {
          "base_uri": "https://localhost:8080/",
          "height": 447
        },
        "outputId": "e0bbe02d-2ea4-4b67-d964-c9b1c37991ba"
      },
      "outputs": [
        {
          "output_type": "stream",
          "name": "stdout",
          "text": [
            "674.0488855666746\n",
            "0.8637079469246546\n",
            "9\n",
            "0.5773502691896257\n"
          ]
        },
        {
          "output_type": "error",
          "ename": "KeyboardInterrupt",
          "evalue": "ignored",
          "traceback": [
            "\u001b[0;31m---------------------------------------------------------------------------\u001b[0m",
            "\u001b[0;31mKeyboardInterrupt\u001b[0m                         Traceback (most recent call last)",
            "\u001b[0;32m<ipython-input-75-e0dbeae76c82>\u001b[0m in \u001b[0;36m<module>\u001b[0;34m()\u001b[0m\n\u001b[1;32m      6\u001b[0m \u001b[0mprint\u001b[0m\u001b[0;34m(\u001b[0m\u001b[0mmedian_after\u001b[0m\u001b[0;34m)\u001b[0m\u001b[0;34m\u001b[0m\u001b[0;34m\u001b[0m\u001b[0m\n\u001b[1;32m      7\u001b[0m \u001b[0;34m\u001b[0m\u001b[0m\n\u001b[0;32m----> 8\u001b[0;31m \u001b[0mprint\u001b[0m\u001b[0;34m(\u001b[0m\u001b[0mmax\u001b[0m\u001b[0;34m(\u001b[0m\u001b[0mlist\u001b[0m\u001b[0;34m(\u001b[0m\u001b[0mnorm_pageviews_dict\u001b[0m\u001b[0;34m.\u001b[0m\u001b[0mvalues\u001b[0m\u001b[0;34m(\u001b[0m\u001b[0;34m)\u001b[0m\u001b[0;34m)\u001b[0m\u001b[0;34m)\u001b[0m\u001b[0;34m)\u001b[0m\u001b[0;34m\u001b[0m\u001b[0;34m\u001b[0m\u001b[0m\n\u001b[0m\u001b[1;32m      9\u001b[0m \u001b[0mprint\u001b[0m\u001b[0;34m(\u001b[0m\u001b[0mmin\u001b[0m\u001b[0;34m(\u001b[0m\u001b[0mlist\u001b[0m\u001b[0;34m(\u001b[0m\u001b[0mnorm_pageviews_dict\u001b[0m\u001b[0;34m.\u001b[0m\u001b[0mvalues\u001b[0m\u001b[0;34m(\u001b[0m\u001b[0;34m)\u001b[0m\u001b[0;34m)\u001b[0m\u001b[0;34m)\u001b[0m\u001b[0;34m)\u001b[0m\u001b[0;34m\u001b[0m\u001b[0;34m\u001b[0m\u001b[0m\n",
            "\u001b[0;32m/usr/local/lib/python3.7/dist-packages/pyspark/sql/functions.py\u001b[0m in \u001b[0;36mmax\u001b[0;34m(col)\u001b[0m\n\u001b[1;32m    161\u001b[0m     \u001b[0mAggregate\u001b[0m \u001b[0mfunction\u001b[0m\u001b[0;34m:\u001b[0m \u001b[0mreturns\u001b[0m \u001b[0mthe\u001b[0m \u001b[0mmaximum\u001b[0m \u001b[0mvalue\u001b[0m \u001b[0mof\u001b[0m \u001b[0mthe\u001b[0m \u001b[0mexpression\u001b[0m \u001b[0;32min\u001b[0m \u001b[0ma\u001b[0m \u001b[0mgroup\u001b[0m\u001b[0;34m.\u001b[0m\u001b[0;34m\u001b[0m\u001b[0;34m\u001b[0m\u001b[0m\n\u001b[1;32m    162\u001b[0m     \"\"\"\n\u001b[0;32m--> 163\u001b[0;31m     \u001b[0;32mreturn\u001b[0m \u001b[0m_invoke_function_over_column\u001b[0m\u001b[0;34m(\u001b[0m\u001b[0;34m\"max\"\u001b[0m\u001b[0;34m,\u001b[0m \u001b[0mcol\u001b[0m\u001b[0;34m)\u001b[0m\u001b[0;34m\u001b[0m\u001b[0;34m\u001b[0m\u001b[0m\n\u001b[0m\u001b[1;32m    164\u001b[0m \u001b[0;34m\u001b[0m\u001b[0m\n\u001b[1;32m    165\u001b[0m \u001b[0;34m\u001b[0m\u001b[0m\n",
            "\u001b[0;32m/usr/local/lib/python3.7/dist-packages/pyspark/sql/functions.py\u001b[0m in \u001b[0;36m_invoke_function_over_column\u001b[0;34m(name, col)\u001b[0m\n\u001b[1;32m     64\u001b[0m     \u001b[0;32mand\u001b[0m \u001b[0mwraps\u001b[0m \u001b[0mthe\u001b[0m \u001b[0mresult\u001b[0m \u001b[0;32mwith\u001b[0m \u001b[0;34m:\u001b[0m\u001b[0;32mclass\u001b[0m\u001b[0;34m:\u001b[0m\u001b[0;31m`\u001b[0m\u001b[0;34m~\u001b[0m\u001b[0mpyspark\u001b[0m\u001b[0;34m.\u001b[0m\u001b[0msql\u001b[0m\u001b[0;34m.\u001b[0m\u001b[0mColumn\u001b[0m\u001b[0;31m`\u001b[0m\u001b[0;34m.\u001b[0m\u001b[0;34m\u001b[0m\u001b[0;34m\u001b[0m\u001b[0m\n\u001b[1;32m     65\u001b[0m     \"\"\"\n\u001b[0;32m---> 66\u001b[0;31m     \u001b[0;32mreturn\u001b[0m \u001b[0m_invoke_function\u001b[0m\u001b[0;34m(\u001b[0m\u001b[0mname\u001b[0m\u001b[0;34m,\u001b[0m \u001b[0m_to_java_column\u001b[0m\u001b[0;34m(\u001b[0m\u001b[0mcol\u001b[0m\u001b[0;34m)\u001b[0m\u001b[0;34m)\u001b[0m\u001b[0;34m\u001b[0m\u001b[0;34m\u001b[0m\u001b[0m\n\u001b[0m\u001b[1;32m     67\u001b[0m \u001b[0;34m\u001b[0m\u001b[0m\n\u001b[1;32m     68\u001b[0m \u001b[0;34m\u001b[0m\u001b[0m\n",
            "\u001b[0;32m/usr/local/lib/python3.7/dist-packages/pyspark/sql/column.py\u001b[0m in \u001b[0;36m_to_java_column\u001b[0;34m(col)\u001b[0m\n\u001b[1;32m     47\u001b[0m             \u001b[0;34m\"{0} of type {1}. \"\u001b[0m\u001b[0;34m\u001b[0m\u001b[0;34m\u001b[0m\u001b[0m\n\u001b[1;32m     48\u001b[0m             \u001b[0;34m\"For column literals, use 'lit', 'array', 'struct' or 'create_map' \"\u001b[0m\u001b[0;34m\u001b[0m\u001b[0;34m\u001b[0m\u001b[0m\n\u001b[0;32m---> 49\u001b[0;31m             \"function.\".format(col, type(col)))\n\u001b[0m\u001b[1;32m     50\u001b[0m     \u001b[0;32mreturn\u001b[0m \u001b[0mjcol\u001b[0m\u001b[0;34m\u001b[0m\u001b[0;34m\u001b[0m\u001b[0m\n\u001b[1;32m     51\u001b[0m \u001b[0;34m\u001b[0m\u001b[0m\n",
            "\u001b[0;31mKeyboardInterrupt\u001b[0m: "
          ]
        }
      ],
      "source": [
        "mean_before = sum_before / length\n",
        "mean_after = sum_after / length\n",
        "print(mean_before)\n",
        "print(mean_after)\n",
        "print(median_before)\n",
        "print(median_after)\n",
        "\n",
        "print(max(list(norm_pageviews_dict.values())))\n",
        "print(min(list(norm_pageviews_dict.values())))"
      ]
    },
    {
      "cell_type": "markdown",
      "metadata": {
        "id": "fKTWrIWta1Ba"
      },
      "source": [
        "# BM25"
      ]
    },
    {
      "cell_type": "markdown",
      "metadata": {
        "id": "n4gyTAEClWaz"
      },
      "source": [
        "title"
      ]
    },
    {
      "cell_type": "code",
      "execution_count": 76,
      "metadata": {
        "id": "nbLeUacBa3Lz"
      },
      "outputs": [],
      "source": [
        "num_docs = len(DL_title)\n",
        "\n",
        "sum_lengths = 0\n",
        "for val in DL_title.keys(): sum_lengths += DL_title[val]\n",
        "\n",
        "avgdl_title = sum_lengths / num_docs\n",
        "\n",
        "K1 = 1.5\n",
        "B = 0.75"
      ]
    },
    {
      "cell_type": "code",
      "execution_count": 77,
      "metadata": {
        "id": "TmDyUTO_b-nv"
      },
      "outputs": [],
      "source": [
        "def inverted_BM25_similaruty_title(query_tokens,index, k1, b):\n",
        "  N = 6348910 # num of documents in the curpus\n",
        "  similarity_dict = dict() # doc_id : cosine similarity\n",
        "\n",
        "  for term in query_tokens:\n",
        "    if term in index.words:\n",
        "      posting_list = read_posting(term, index)\n",
        "\n",
        "      df = index.df[term]\n",
        "      q_i_IDF = np.log((N - df + 0.5) / (df + 0.5) + 1)\n",
        "\n",
        "      for doc_id, freq in posting_list:\n",
        "        if doc_id == 0:#TODO: ?\n",
        "          continue\n",
        "        f_ti_D = freq\n",
        "        #print(doc_id)\n",
        "        len_of_D = DL_title[doc_id]\n",
        "        w = q_i_IDF * ((f_ti_D * (k1 + 1)) / (f_ti_D + k1 * (1 - b + b * (len_of_D / avgdl_title))))\n",
        "        similarity_dict[doc_id] = similarity_dict.get(doc_id, 0) + w\n",
        "  return similarity_dict # TODO: change\n",
        "  similarity_list = similarity_dict.items() # [(doc_id, similarity_score)]\n",
        "  sorted_similarity_list = sorted(similarity_list, key = lambda x: -x[1])[:100]\n",
        "  sorted_similarity_list_with_title = [(doc[0], id_title_dict[doc[0]]) for doc in sorted_similarity_list]\n",
        "  return sorted_similarity_list_with_title"
      ]
    },
    {
      "cell_type": "markdown",
      "metadata": {
        "id": "eUmCUFLrlYW3"
      },
      "source": [
        "body"
      ]
    },
    {
      "cell_type": "code",
      "execution_count": 78,
      "metadata": {
        "id": "p5lnZIxdlaCK"
      },
      "outputs": [],
      "source": [
        "num_docs = len(DL_body)\n",
        "\n",
        "sum_lengths = 0\n",
        "for val in DL_body.keys(): sum_lengths += DL_body[val]\n",
        "\n",
        "avgdl_body = sum_lengths / num_docs\n",
        "\n",
        "K1 = 1.5\n",
        "B = 0.75"
      ]
    },
    {
      "cell_type": "code",
      "execution_count": 79,
      "metadata": {
        "id": "lkzfxZXSlaGp"
      },
      "outputs": [],
      "source": [
        "def inverted_BM25_similaruty_body(query_tokens,index, k1, b):\n",
        "  N = 6348910 # num of documents in the curpus\n",
        "  similarity_dict = dict() # doc_id : cosine similarity\n",
        "\n",
        "  for term in query_tokens:\n",
        "    if term in index.words:\n",
        "      posting_list = read_posting(term, index)\n",
        "\n",
        "      df = index.df[term]\n",
        "      q_i_IDF = np.log((N - df + 0.5) / (df + 0.5) + 1)\n",
        "\n",
        "      for doc_id, freq in posting_list:\n",
        "        if doc_id == 0:#TODO: ?\n",
        "          continue\n",
        "        f_ti_D = freq\n",
        "        #print(doc_id)\n",
        "        len_of_D = DL_body[doc_id]\n",
        "        w = q_i_IDF * ((f_ti_D * (k1 + 1)) / (f_ti_D + k1 * (1 - b + b * (len_of_D / avgdl_body))))\n",
        "        similarity_dict[doc_id] = similarity_dict.get(doc_id, 0) + w\n",
        "  return similarity_dict # TODO: change\n",
        "  similarity_list = similarity_dict.items() # [(doc_id, similarity_score)]\n",
        "  sorted_similarity_list = sorted(similarity_list, key = lambda x: -x[1])[:100]\n",
        "  sorted_similarity_list_with_title = [(doc[0], id_title_dict[doc[0]]) for doc in sorted_similarity_list]\n",
        "  return sorted_similarity_list_with_title"
      ]
    },
    {
      "cell_type": "code",
      "execution_count": 80,
      "metadata": {
        "id": "oViM_BcbUgtH"
      },
      "outputs": [],
      "source": [
        "#expiraments_result_dict_title = dict() # #expirament : {description: , MAP@40: , mean time:}"
      ]
    },
    {
      "cell_type": "markdown",
      "metadata": {
        "id": "R1_2uvouZNS5"
      },
      "source": [
        "# Evaluate"
      ]
    },
    {
      "cell_type": "code",
      "execution_count": 22,
      "metadata": {
        "id": "G4NH_3S2lSg9"
      },
      "outputs": [],
      "source": [
        "def precision_at_k(true_list,predicted_list,k=40):      \n",
        "    predicted_list = predicted_list[:k]\n",
        "    true = set(true_list)\n",
        "    pred = set(predicted_list)\n",
        "    relavent_pred = true.intersection(pred)\n",
        "    recall_score = len(relavent_pred) / len(pred)\n",
        "    return recall_score"
      ]
    },
    {
      "cell_type": "code",
      "execution_count": 23,
      "metadata": {
        "id": "i7AJbUFulVU1"
      },
      "outputs": [],
      "source": [
        "def average_precision(true_list,predicted_list,k=40):\n",
        "    num_found = 0\n",
        "    sum_precision = 0\n",
        "    k = min([k, len(predicted_list)])\n",
        "    for i in range(k):\n",
        "      if predicted_list[i] in true_list:\n",
        "        sum_precision += precision_at_k(true_list,predicted_list,k = i + 1)\n",
        "        num_found += 1\n",
        "    if num_found != 0:\n",
        "      ans = (1/num_found) * sum_precision\n",
        "    else:\n",
        "      ans = 0.0\n",
        "    return ans"
      ]
    },
    {
      "cell_type": "code",
      "execution_count": 24,
      "metadata": {
        "id": "I6FySRS-lXji"
      },
      "outputs": [],
      "source": [
        "def mean_average_precision(true_dict,predicted_dict,k=40):\n",
        "    \"\"\"\n",
        "    Parameters\n",
        "    -----------\n",
        "    true_dict: query_id : list of relevant documents. Each element is a doc_id.\n",
        "    predicted_list: query_id : sorted list of documents predicted as relevant. Each element is a doc_id.\n",
        "    k: integer, a number to slice the length of the predicted_list\n",
        "    \n",
        "    Returns:\n",
        "    -----------\n",
        "    float, average precision@k.\n",
        "    \"\"\"\n",
        "    num_queries = len(true_dict)\n",
        "    #print(num_queries)\n",
        "    mean = 0\n",
        "    for query_id in true_dict.keys():\n",
        "      mean += average_precision(true_dict[query_id],predicted_dict[query_id],k=40)\n",
        "      #print(mean)\n",
        "    mean = mean / num_queries\n",
        "    return mean"
      ]
    },
    {
      "cell_type": "markdown",
      "metadata": {
        "id": "EBfV0WgEt3v8"
      },
      "source": [
        "# Optimization"
      ]
    },
    {
      "cell_type": "markdown",
      "metadata": {
        "id": "Z3blYpixbR5x"
      },
      "source": [
        "Title expiraments"
      ]
    },
    {
      "cell_type": "code",
      "execution_count": 84,
      "metadata": {
        "id": "owJPYeebwu4-"
      },
      "outputs": [],
      "source": [
        "#expiraments_result_dict_body = dict()"
      ]
    },
    {
      "cell_type": "code",
      "execution_count": null,
      "metadata": {
        "id": "NutxKlu7bWzG"
      },
      "outputs": [],
      "source": [
        "import time\n",
        "pred_dict = dict()\n",
        "true_dict = dict()\n",
        "\n",
        "K1 = 2\n",
        "B = 1\n",
        "mean_time = 0\n",
        "time_zero = time.time()\n",
        "for i in range(len(train_queries)):\n",
        "  current_time = time.time()\n",
        "  query = train_queries[i]\n",
        "  query_tekens = query_preprosess(query)\n",
        "  result = inverted_BM25_similaruty_title(query_tekens,index_title, K1, B) # expirament that changes\n",
        "  retrival_time = time.time() - current_time\n",
        "  print(query, retrival_time)\n",
        "  mean_time += retrival_time\n",
        "  #print(result)\n",
        "  pred_dict[i] = [x for x in result]\n",
        "  true_dict[i] = queries_to_relavent_docs[query]\n",
        "\n",
        "mean_time = mean_time/len(train_queries)\n",
        "print(\"total time:\", time.time() - time_zero)"
      ]
    },
    {
      "cell_type": "code",
      "execution_count": null,
      "metadata": {
        "id": "Q5zQS9d41DYe"
      },
      "outputs": [],
      "source": [
        "result = mean_average_precision(true_dict,pred_dict,k=40)\n",
        "print(\"mean_time\", mean_time)\n",
        "print(\"MAP@40:\", result)"
      ]
    },
    {
      "cell_type": "code",
      "execution_count": null,
      "metadata": {
        "id": "8KJCOhSnbgQY"
      },
      "outputs": [],
      "source": [
        "from builtins import *\n",
        "expirament_id = 5\n",
        "expirament_description = \"BM25 k1=2, B=1\"\n",
        "result = mean_average_precision(true_dict,pred_dict,k=40)\n",
        "print(\"mean_time\", mean_time)\n",
        "print(\"MAP@40:\", result)\n",
        "expiraments_result_dict_title[expirament_id] = dict()\n",
        "expiraments_result_dict_title[expirament_id][\"description\"] = expirament_description\n",
        "expiraments_result_dict_title[expirament_id][\"MAP@40\"] = result\n",
        "expiraments_result_dict_title[expirament_id][\"mean time\"] = mean_time\n",
        "print(expiraments_result_dict_title[expirament_id])"
      ]
    },
    {
      "cell_type": "code",
      "execution_count": null,
      "metadata": {
        "id": "zurFGtqdbmQ5"
      },
      "outputs": [],
      "source": [
        "print(expiraments_result_dict_title)"
      ]
    },
    {
      "cell_type": "markdown",
      "metadata": {
        "id": "ZKM0LfqmuBFn"
      },
      "source": [
        "BM25 title parameters"
      ]
    },
    {
      "cell_type": "code",
      "execution_count": null,
      "metadata": {
        "id": "BbCHz9h4t3-x"
      },
      "outputs": [],
      "source": [
        "from builtins import *\n",
        "import time\n",
        "\n",
        "train_queries_tokens = [query_preprosess(query) for query in train_queries]\n",
        "\n",
        "start_time = time.time()\n",
        "\n",
        "k1_opt = np.linspace(0.0, 3.0, num=10)\n",
        "b_opt = np.linspace(0.0, 1.0, num=10)\n",
        "\n",
        "scores_dict = dict()\n",
        "counter = 0\n",
        "for k1 in k1_opt:\n",
        "  for b in b_opt:\n",
        "\n",
        "    pred_dict = dict() # query_id : predicted list\n",
        "    true_dict = dict()\n",
        "\n",
        "    for i in range(len(train_queries)):\n",
        "      query = train_queries[i]\n",
        "      query_tekens = query_preprosess(query)\n",
        "      #print(query_tekens)\n",
        "      model = inverted_BM25_similaruty(query_tekens, index_title, k1, b)\n",
        "      pred_dict[i] = [x[0] for x in model]\n",
        "      true_dict[i] = queries_to_relavent_docs[query]\n",
        "\n",
        "    scores_dict[(k1, b)] = mean_average_precision(true_dict,pred_dict,k=40)\n",
        "    print(counter, time.time() - start_time)\n",
        "    counter += 1"
      ]
    },
    {
      "cell_type": "code",
      "execution_count": null,
      "metadata": {
        "id": "gSQugK01waNP"
      },
      "outputs": [],
      "source": [
        "rank = sorted(scores_dict.keys(), key = lambda x: -scores_dict[x])\n",
        "for i in rank:\n",
        "  print(\"k1:\", i[0], \"b:\", i[1], \"score:\", scores_dict[i])"
      ]
    },
    {
      "cell_type": "code",
      "execution_count": null,
      "metadata": {
        "id": "EAYQZyiubPYO"
      },
      "outputs": [],
      "source": [
        "from imports import *\n",
        "\n",
        "pred_dict = dict()\n",
        "true_dict = dict()\n",
        "\n",
        "for i in range(len(train_queries)):\n",
        "  query = train_queries[i]\n",
        "  query_tekens = query_preprosess(query)\n",
        "  pred_dict[i] = [x[0] for x in inverted_cosine_similaruty_tfidf_title(query_tekens,index_title)]\n",
        "  true_dict[i] = queries_to_relavent_docs[query]\n"
      ]
    },
    {
      "cell_type": "code",
      "execution_count": null,
      "metadata": {
        "id": "kcRFDL85bbOA"
      },
      "outputs": [],
      "source": [
        "from builtins import *\n",
        "mean_average_precision(true_dict,pred_dict,k=40)"
      ]
    },
    {
      "cell_type": "code",
      "execution_count": null,
      "metadata": {
        "id": "gV0zBEPPZpU9"
      },
      "outputs": [],
      "source": [
        "print(rank[:10])"
      ]
    },
    {
      "cell_type": "markdown",
      "metadata": {
        "id": "D4-1b4HAcYmY"
      },
      "source": [
        "# Merge title, body, anchor scores"
      ]
    },
    {
      "cell_type": "markdown",
      "metadata": {
        "id": "JZQGRwNWp41B"
      },
      "source": [
        "train"
      ]
    },
    {
      "cell_type": "code",
      "execution_count": 86,
      "metadata": {
        "id": "1doJJ-4kmZYB"
      },
      "outputs": [],
      "source": [
        "train_queries_dict = dict() # query_id : query string\n",
        "for i in range(len(train_queries)): train_queries_dict[i] = train_queries[i]"
      ]
    },
    {
      "cell_type": "code",
      "execution_count": 87,
      "metadata": {
        "id": "Mw2k361Gm4Vi"
      },
      "outputs": [],
      "source": [
        "train_queries_dict_title = dict() # query_id : BM25 title\n",
        "for i in range(len(train_queries)):\n",
        "   query_tekens = query_preprosess(train_queries[i])\n",
        "   train_queries_dict_title[i] = inverted_BM25_similaruty_title(query_tekens,index_title, 2, 1)"
      ]
    },
    {
      "cell_type": "code",
      "execution_count": 88,
      "metadata": {
        "id": "20bRx0C4nZsJ"
      },
      "outputs": [],
      "source": [
        "train_queries_dict_body = dict() # query_id : BM25 body\n",
        "for i in range(len(train_queries)):\n",
        "   query_tekens = query_preprosess(train_queries[i])\n",
        "   train_queries_dict_body[i] = inverted_BM25_similaruty_body(query_tekens,index_body, 1, 0.222)"
      ]
    },
    {
      "cell_type": "code",
      "execution_count": 89,
      "metadata": {
        "id": "OxwuL5X6867g"
      },
      "outputs": [],
      "source": [
        "train_queries_dict_anchor = dict()\n",
        "for i in range(len(train_queries)):\n",
        "   query_tekens = query_preprosess(train_queries[i])\n",
        "   train_queries_dict_anchor[i] = search_anchor_for_opt(query_tekens, index_anchor)"
      ]
    },
    {
      "cell_type": "code",
      "execution_count": null,
      "metadata": {
        "id": "XXOL2BL32AKg"
      },
      "outputs": [],
      "source": [
        "for i in range(len(train_queries_dict)):  \n",
        "  print(max(train_queries_dict_body[i].values()))\n",
        "  print(min(train_queries_dict_body[i].values()))"
      ]
    },
    {
      "cell_type": "markdown",
      "metadata": {
        "id": "54HnrA75p6ZS"
      },
      "source": [
        "test"
      ]
    },
    {
      "cell_type": "code",
      "execution_count": null,
      "metadata": {
        "id": "XQsnlTs6oHhz"
      },
      "outputs": [],
      "source": [
        "test_queries_dict = dict()# query_id : query string\n",
        "for i in range(len(test_queries)): test_queries_dict[i] = test_queries[i]"
      ]
    },
    {
      "cell_type": "code",
      "execution_count": null,
      "metadata": {
        "id": "EFd4n-rtoHmj"
      },
      "outputs": [],
      "source": [
        "test_queries_dict_title = dict()# query_id : BM25 title\n",
        "for i in range(len(test_queries)):\n",
        "   query_tekens = query_preprosess(test_queries[i])\n",
        "   test_queries_dict_title[i] = inverted_BM25_similaruty_title(query_tekens,index_title, 2, 1)"
      ]
    },
    {
      "cell_type": "code",
      "execution_count": null,
      "metadata": {
        "id": "R96v_VcDoHrl"
      },
      "outputs": [],
      "source": [
        "test_queries_dict_body = dict()# query_id : BM25 body\n",
        "for i in range(len(test_queries)):\n",
        "   query_tekens = query_preprosess(test_queries[i])\n",
        "   test_queries_dict_body[i] = inverted_BM25_similaruty_body(query_tekens,index_body, 1, 0.222)"
      ]
    },
    {
      "cell_type": "code",
      "execution_count": null,
      "metadata": {
        "id": "F8BvntwE_bFR"
      },
      "outputs": [],
      "source": [
        "test_queries_dict_anchor = dict()\n",
        "for i in range(len(test_queries)):\n",
        "   query_tekens = query_preprosess(test_queries[i])\n",
        "   test_queries_dict_anchor[i] = search_anchor_for_opt(query_tekens, index_anchor)"
      ]
    },
    {
      "cell_type": "markdown",
      "metadata": {
        "id": "Q_i6iOIgqCoF"
      },
      "source": [
        "scores dict"
      ]
    },
    {
      "cell_type": "code",
      "execution_count": 90,
      "metadata": {
        "colab": {
          "base_uri": "https://localhost:8080/",
          "height": 35
        },
        "id": "saHco2o1cfwh",
        "outputId": "c3d1c69c-809e-45c7-b4f5-2b4fc4d24591"
      },
      "outputs": [
        {
          "output_type": "execute_result",
          "data": {
            "application/vnd.google.colaboratory.intrinsic+json": {
              "type": "string"
            },
            "text/plain": [
              "' Each dict is a query_id : [list of pairs in the following format:(doc_id,score)]'"
            ]
          },
          "metadata": {},
          "execution_count": 90
        }
      ],
      "source": [
        "# scores_dict = {\"title\" : train_queries_dict_title, \"body\": train_queries_dict_body, \"pageview\" : wid2pv}\n",
        "test = False\n",
        "\n",
        "if test:\n",
        "  scores_dict = {\"title\" : test_queries_dict_title, \"body\": test_queries_dict_title}\n",
        "else:\n",
        "  scores_dict = {\"title\" : train_queries_dict_body, \"body\": train_queries_dict_body, \"anchor\": train_queries_dict_anchor , \"pageview\": norm_pageviews_dict, \"pagerank\": norm_pagerank_dict}\n",
        "\n",
        "''' Each dict is a query_id : [list of pairs in the following format:(doc_id,score)]'''"
      ]
    },
    {
      "cell_type": "code",
      "execution_count": 91,
      "metadata": {
        "id": "AwE-GEnMcei7"
      },
      "outputs": [],
      "source": [
        "def merge_results(scores_dict, weights_dict, return_as_predictedlist = False):    \n",
        "    \"\"\"\n",
        "    outnput: \n",
        "        united_dict - query_id: {doc_id : united_score}\n",
        "\n",
        "        if return_as_predictedlist:\n",
        "          united_dict - query_id: [list of sorted doc_ids by united score]\n",
        "    \"\"\"\n",
        "    united_dict = dict()\n",
        "    query_ids = list(scores_dict[\"title\"].keys())\n",
        "    score_types = list(scores_dict.keys())\n",
        "\n",
        "    # # from tuple (doc_id,score) to dict doc_id: score\n",
        "    # for score_type in score_types:\n",
        "    #   for query_id in query_ids:\n",
        "    #     scores_dict[score_type][query_id] = dict(scores_dict[score_type][query_id])\n",
        "\n",
        "    for query_id in query_ids:\n",
        "      # united for query:\n",
        "      united_dict[query_id] = dict() \n",
        "\n",
        "      # all relavent docs for query:\n",
        "      doc_ids = set()\n",
        "      for score_type in score_types:\n",
        "        if score_type in [\"pageview\", \"pagerank\"]:\n",
        "          continue\n",
        "        else:\n",
        "          doc_ids = doc_ids.union(set(scores_dict[score_type][query_id].keys()))\n",
        "\n",
        "      # calc united score\n",
        "      for doc_id in doc_ids:\n",
        "        doc_united_score = 0\n",
        "        for score_type in score_types: \n",
        "          w = weights_dict[score_type]\n",
        "          if score_type in [\"pageview\", \"pagerank\"]:\n",
        "            if doc_id in scores_dict[score_type]:\n",
        "            # print(scores_dict[score_type][doc_id])\n",
        "            # print(w)\n",
        "              #print(\"this\", wid2pv[doc_id])\n",
        "              doc_united_score += scores_dict[score_type][doc_id] * w\n",
        "          elif doc_id in scores_dict[score_type][query_id]:\n",
        "            doc_united_score += scores_dict[score_type][query_id][doc_id] * w\n",
        "        united_dict[query_id][doc_id] = doc_united_score\n",
        "\n",
        "    if return_as_predictedlist:\n",
        "      for query_id in query_ids:\n",
        "        united_dict[query_id] = sorted(list(united_dict[query_id].keys()), key = lambda x: -united_dict[query_id][x])\n",
        "\n",
        "    return united_dict"
      ]
    },
    {
      "cell_type": "markdown",
      "metadata": {
        "id": "LhcQQeGhpOyK"
      },
      "source": [
        "try on"
      ]
    },
    {
      "cell_type": "code",
      "execution_count": null,
      "metadata": {
        "id": "-SyJMVYfljlD"
      },
      "outputs": [],
      "source": [
        "united = merge_results(scores_dict, weights_dict, return_as_predictedlist = True)\n",
        "united"
      ]
    },
    {
      "cell_type": "code",
      "execution_count": null,
      "metadata": {
        "id": "2hd9qlRvpotb"
      },
      "outputs": [],
      "source": [
        "united[0]"
      ]
    },
    {
      "cell_type": "code",
      "execution_count": null,
      "metadata": {
        "id": "2OOH3Llop5ly"
      },
      "outputs": [],
      "source": [
        "pred_dict = dict()\n",
        "true_dict = dict()\n",
        "\n",
        "for i in train_queries_dict:\n",
        "    pred_dict[i] = united[i]\n",
        "    true_dict[i] = queries_to_relavent_docs[train_queries_dict[i]]"
      ]
    },
    {
      "cell_type": "code",
      "execution_count": null,
      "metadata": {
        "id": "ED_tWCcrp5xd"
      },
      "outputs": [],
      "source": [
        "mean_average_precision(true_dict,pred_dict,k=40)"
      ]
    },
    {
      "cell_type": "markdown",
      "metadata": {
        "id": "qguIc7copIG0"
      },
      "source": [
        "Choose weights"
      ]
    },
    {
      "cell_type": "code",
      "execution_count": 92,
      "metadata": {
        "colab": {
          "base_uri": "https://localhost:8080/",
          "height": 369
        },
        "id": "FI88r62SqzrT",
        "outputId": "544fcc76-2931-4613-c387-9eda86df7183"
      },
      "outputs": [
        {
          "output_type": "error",
          "ename": "KeyboardInterrupt",
          "evalue": "ignored",
          "traceback": [
            "\u001b[0;31m---------------------------------------------------------------------------\u001b[0m",
            "\u001b[0;31mKeyboardInterrupt\u001b[0m                         Traceback (most recent call last)",
            "\u001b[0;32m<ipython-input-92-ea76d5929592>\u001b[0m in \u001b[0;36m<module>\u001b[0;34m()\u001b[0m\n\u001b[1;32m     34\u001b[0m             \u001b[0;31m# weights_dict = {\"title\" : w_title, \"body\": w_body, \"pageview\": w_page}\u001b[0m\u001b[0;34m\u001b[0m\u001b[0;34m\u001b[0m\u001b[0;34m\u001b[0m\u001b[0m\n\u001b[1;32m     35\u001b[0m             \u001b[0mweights_dict\u001b[0m \u001b[0;34m=\u001b[0m \u001b[0;34m{\u001b[0m\u001b[0;34m\"title\"\u001b[0m \u001b[0;34m:\u001b[0m \u001b[0mw_title\u001b[0m\u001b[0;34m,\u001b[0m \u001b[0;34m\"body\"\u001b[0m\u001b[0;34m:\u001b[0m \u001b[0mw_body\u001b[0m\u001b[0;34m,\u001b[0m \u001b[0;34m\"anchor\"\u001b[0m\u001b[0;34m:\u001b[0m \u001b[0mw_anchor\u001b[0m \u001b[0;34m,\u001b[0m \u001b[0;34m\"pageview\"\u001b[0m\u001b[0;34m:\u001b[0m \u001b[0mw_view\u001b[0m\u001b[0;34m,\u001b[0m \u001b[0;34m\"pagerank\"\u001b[0m\u001b[0;34m:\u001b[0m \u001b[0mw_rank\u001b[0m\u001b[0;34m}\u001b[0m\u001b[0;34m\u001b[0m\u001b[0;34m\u001b[0m\u001b[0m\n\u001b[0;32m---> 36\u001b[0;31m             \u001b[0munited\u001b[0m \u001b[0;34m=\u001b[0m \u001b[0mmerge_results\u001b[0m\u001b[0;34m(\u001b[0m\u001b[0mscores_dict\u001b[0m\u001b[0;34m,\u001b[0m \u001b[0mweights_dict\u001b[0m\u001b[0;34m,\u001b[0m \u001b[0mreturn_as_predictedlist\u001b[0m \u001b[0;34m=\u001b[0m \u001b[0;32mTrue\u001b[0m\u001b[0;34m)\u001b[0m\u001b[0;34m\u001b[0m\u001b[0;34m\u001b[0m\u001b[0m\n\u001b[0m\u001b[1;32m     37\u001b[0m             \u001b[0;32mif\u001b[0m \u001b[0mtest\u001b[0m\u001b[0;34m:\u001b[0m\u001b[0;34m\u001b[0m\u001b[0;34m\u001b[0m\u001b[0m\n\u001b[1;32m     38\u001b[0m               \u001b[0;32mfor\u001b[0m \u001b[0mi\u001b[0m \u001b[0;32min\u001b[0m \u001b[0mtest_queries_dict\u001b[0m\u001b[0;34m:\u001b[0m\u001b[0;34m\u001b[0m\u001b[0;34m\u001b[0m\u001b[0m\n",
            "\u001b[0;32m<ipython-input-91-7a30d4873f7b>\u001b[0m in \u001b[0;36mmerge_results\u001b[0;34m(scores_dict, weights_dict, return_as_predictedlist)\u001b[0m\n\u001b[1;32m     26\u001b[0m           \u001b[0;32mcontinue\u001b[0m\u001b[0;34m\u001b[0m\u001b[0;34m\u001b[0m\u001b[0m\n\u001b[1;32m     27\u001b[0m         \u001b[0;32melse\u001b[0m\u001b[0;34m:\u001b[0m\u001b[0;34m\u001b[0m\u001b[0;34m\u001b[0m\u001b[0m\n\u001b[0;32m---> 28\u001b[0;31m           \u001b[0mdoc_ids\u001b[0m \u001b[0;34m=\u001b[0m \u001b[0mdoc_ids\u001b[0m\u001b[0;34m.\u001b[0m\u001b[0munion\u001b[0m\u001b[0;34m(\u001b[0m\u001b[0mset\u001b[0m\u001b[0;34m(\u001b[0m\u001b[0mscores_dict\u001b[0m\u001b[0;34m[\u001b[0m\u001b[0mscore_type\u001b[0m\u001b[0;34m]\u001b[0m\u001b[0;34m[\u001b[0m\u001b[0mquery_id\u001b[0m\u001b[0;34m]\u001b[0m\u001b[0;34m.\u001b[0m\u001b[0mkeys\u001b[0m\u001b[0;34m(\u001b[0m\u001b[0;34m)\u001b[0m\u001b[0;34m)\u001b[0m\u001b[0;34m)\u001b[0m\u001b[0;34m\u001b[0m\u001b[0;34m\u001b[0m\u001b[0m\n\u001b[0m\u001b[1;32m     29\u001b[0m \u001b[0;34m\u001b[0m\u001b[0m\n\u001b[1;32m     30\u001b[0m       \u001b[0;31m# calc united score\u001b[0m\u001b[0;34m\u001b[0m\u001b[0;34m\u001b[0m\u001b[0;34m\u001b[0m\u001b[0m\n",
            "\u001b[0;31mKeyboardInterrupt\u001b[0m: "
          ]
        }
      ],
      "source": [
        "from builtins import *\n",
        "import time\n",
        "import numpy as np\n",
        "\n",
        "\n",
        "start_time = time.time()\n",
        "\n",
        "w_title_opt = np.linspace(0.0, 1.0, num=5)\n",
        "w_body_opt = np.linspace(0.0, 1.0, num=5)\n",
        "#print(np.flipud(w_title_opt))\n",
        "w_title_opt = [0.1111]\n",
        "w_body_opt = [0.8888]\n",
        "w_title_opt = [1]\n",
        "w_body_opt = [1]\n",
        "w_anchor_opt = [1]\n",
        "w_view_opt = [2]\n",
        "w_rank_opt = [1]\n",
        "\n",
        "max_score = 0\n",
        "\n",
        "united_scores_dict = dict()\n",
        "counter = 0\n",
        "for w_title in w_title_opt:\n",
        "  for w_body in w_body_opt:\n",
        "    for w_anchor in w_anchor_opt:\n",
        "      for w_view in w_view_opt:\n",
        "        for w_rank in w_rank_opt:\n",
        "    #for w_page in w_page_opt:\n",
        "\n",
        "            pred_dict = dict() # query_id : predicted list\n",
        "            true_dict = dict()\n",
        "\n",
        "\n",
        "            # weights_dict = {\"title\" : w_title, \"body\": w_body, \"pageview\": w_page}\n",
        "            weights_dict = {\"title\" : w_title, \"body\": w_body, \"anchor\": w_anchor , \"pageview\": w_view, \"pagerank\": w_rank}\n",
        "            united = merge_results(scores_dict, weights_dict, return_as_predictedlist = True)\n",
        "            if test:\n",
        "              for i in test_queries_dict:\n",
        "                pred_dict[i] = united[i]\n",
        "                true_dict[i] = queries_to_relavent_docs[test_queries_dict[i]]\n",
        "            else:\n",
        "              for i in train_queries_dict:\n",
        "                pred_dict[i] = united[i]\n",
        "                true_dict[i] = queries_to_relavent_docs[train_queries_dict[i]]\n",
        "\n",
        "            score = mean_average_precision(true_dict,pred_dict,k=40) \n",
        "            #united_scores_dict[(w_title, w_body, w_anchor, w_view, w_rank)] = mean_average_precision(true_dict,pred_dict,k=40)\n",
        "            if score >= max_score:\n",
        "              print(\"***MAX***\")\n",
        "              max_score = score\n",
        "            print(counter, round(time.time() - start_time))\n",
        "            print(\"w_title:\", w_title, \"w_body:\", w_body, \"w_anc:\", w_anchor, \"w_view:\", w_view, \"w_rank:\", w_rank, \"score:\", score)\n",
        "            counter += 1"
      ]
    },
    {
      "cell_type": "code",
      "execution_count": null,
      "metadata": {
        "id": "YMet4Kjq4Z_C"
      },
      "outputs": [],
      "source": [
        "ppp = sorted(list(united_scores_dict.keys()), key = lambda key: -united_scores_dict[key])\n",
        "for x in ppp:\n",
        "  print(x[0], x[1], x[2], x[3],x[4],  united_scores_dict[x]) # 0.111, 0.888"
      ]
    },
    {
      "cell_type": "markdown",
      "metadata": {
        "id": "mIzi-lE46dur"
      },
      "source": [
        "page views"
      ]
    },
    {
      "cell_type": "code",
      "execution_count": null,
      "metadata": {
        "id": "BiiSjeAl6QV3"
      },
      "outputs": [],
      "source": [
        "max(list(wid2pv.values()))"
      ]
    },
    {
      "cell_type": "code",
      "execution_count": null,
      "metadata": {
        "id": "SzWzH0re6g6q"
      },
      "outputs": [],
      "source": [
        "MAX = 181126232 + 1\n",
        "for key in wid2pv.keys():\n",
        "  wid2pv[key] /= MAX"
      ]
    },
    {
      "cell_type": "code",
      "execution_count": null,
      "metadata": {
        "id": "RyqO7lDq6yEL"
      },
      "outputs": [],
      "source": [
        "len(list(wid2pv.values()))\n",
        "10771932/2\n",
        "list(wid2pv.values())[5385966]"
      ]
    },
    {
      "cell_type": "markdown",
      "metadata": {
        "id": "3pFz7K3yo-Je"
      },
      "source": [
        "# Drew graph of mean retrival time and MAP@40"
      ]
    },
    {
      "cell_type": "code",
      "execution_count": null,
      "metadata": {
        "id": "FEZODVGDqdlX"
      },
      "outputs": [],
      "source": [
        "print(expiraments_result_dict_title)"
      ]
    },
    {
      "cell_type": "markdown",
      "metadata": {
        "id": "H6ybQb1kpd5g"
      },
      "source": [
        "title"
      ]
    },
    {
      "cell_type": "code",
      "execution_count": 123,
      "metadata": {
        "id": "pJ0OMqsnpHAa",
        "colab": {
          "base_uri": "https://localhost:8080/",
          "height": 443
        },
        "outputId": "15e20fe4-e053-4756-ba50-122df23ad769"
      },
      "outputs": [
        {
          "output_type": "display_data",
          "data": {
            "image/png": "[encoded data removed]",
            "text/plain": [
              "<Figure size 432x288 with 1 Axes>"
            ]
          },
          "metadata": {
            "needs_background": "light"
          }
        }
      ],
      "source": [
        "import matplotlib.pyplot as plt\n",
        "\n",
        "\n",
        "x = [\"tf-idf cosine (normelized) title\", \"tf-idf cosine (not normelized) title\", \"binary title\", \"BM25 k1=1.5 b=0.75 title\", \"BM25 k1=2 b=1 title\", \"tf-idf cosine (normelized) body\", \"tf-idf cosine (not normelized) body\", \"BM25 k1=1.5 b=0.75 body\", \"BM25 k1=1 b=0.222 body\", \"ensemble, even weights\", \"ensemble, optimal weights\"]\n",
        "y_eval = [0.382, 0.429, 0.448, 0.477, 0.504, 0.065, 0.155, 0.513, 0.577, 0.671, 0.714] \n",
        "y_time = [0.347, 0.319, 0.330, 0.393, 0.363, 3.89, 3.145, 3.00, 3.04, 3.541, 3.616]\n",
        "\n",
        "uni = sorted([(x[i], y_eval[i], y_time[i]) for i in range (len(y_time))], key = lambda x: x[1])\n",
        "x = [x[0] for x in uni]\n",
        "y_eval = [x[1] for x in uni]\n",
        "y_time = [x[2] for x in uni]\n",
        "\n",
        "plt.plot(x, y_eval)\n",
        "plt.xticks(rotation = 90)\n",
        "plt.title(\"MAP@40\")\n",
        "plt.show()"
      ]
    },
    {
      "cell_type": "code",
      "source": [
        "plt.plot(x, y_time)\n",
        "plt.xticks(rotation = 90)\n",
        "plt.title(\"Mean retrival time\")\n",
        "plt.show()"
      ],
      "metadata": {
        "colab": {
          "base_uri": "https://localhost:8080/",
          "height": 443
        },
        "id": "psBH5MuB2nmS",
        "outputId": "3b3cd8b8-457b-4223-f224-fb4a3ee54c05"
      },
      "execution_count": 125,
      "outputs": [
        {
          "output_type": "display_data",
          "data": {
            "image/png": "[encoded data removed]",
            "text/plain": [
              "<Figure size 432x288 with 1 Axes>"
            ]
          },
          "metadata": {
            "needs_background": "light"
          }
        }
      ]
    },
    {
      "cell_type": "markdown",
      "metadata": {
        "id": "WG3Qdc7Cpi0t"
      },
      "source": [
        "body"
      ]
    },
    {
      "cell_type": "code",
      "execution_count": null,
      "metadata": {
        "id": "J6pycQvsKV98"
      },
      "outputs": [],
      "source": [
        "import matplotlib.pyplot as plt\n",
        "  \n",
        "results_dict = expiraments_result_dict_title\n",
        "\n",
        "x = [\"tf-idf cosine (normelized)\", \"tf-idf cosine (not normelized)\", \"BM25 k1=1.5 b=0.75\", \"BM25 k1=1 b=0.222\"] \n",
        "y_eval = [0.065, 0.155, 0.513, 0.577] \n",
        "y_time = [3.89, 3.145, 3.00, 3.04] \n",
        "  \n",
        "# plot lines\n",
        "plt.plot(x, y_eval, label = \"MAP@40\")\n",
        "plt.plot(x, y_time, label = \"mean retrןval time\")\n",
        "plt.xticks(rotation=45)\n",
        "plt.legend()\n",
        "plt.show()"
      ]
    },
    {
      "cell_type": "markdown",
      "source": [
        "# Test final solution"
      ],
      "metadata": {
        "id": "XdiEkECDHFcL"
      }
    },
    {
      "cell_type": "code",
      "source": [
        "# from dicts_and_indexes import *\n",
        "# from get_page_rank_backend import *\n",
        "# from get_pageviews_backend import *\n",
        "\n",
        "to_return = 100\n",
        "\n",
        "def search_backend(query_tokens):\n",
        "    title_scores = inverted_BM25_similaruty_title(query_tokens, index_title)\n",
        "    body_scores = inverted_BM25_similaruty_body(query_tokens, index_body)\n",
        "    anchor_scored = search_anchor_for_opt(query_tokens, index_anchor)\n",
        "\n",
        "    scores_dict = {\"title\": title_scores, \"body\": body_scores,\n",
        "                   \"anchor\": anchor_scored, \"pageview\": norm_pageviews_dict, \"pagerank\": norm_pagerank_dict}\n",
        "    res = merge_results(scores_dict, weights_dict)  # 100 united scores\n",
        "    res = [x[0] for x in res]  # give titles\n",
        "    return res\n",
        "\n",
        "\n",
        "#  calculating avgdl for BM25:\n",
        "num_docs = len(DL_title)\n",
        "sum_lengths = 0\n",
        "for val in DL_title.keys(): sum_lengths += DL_title[val]\n",
        "avgdl_title = sum_lengths / num_docs\n",
        "num_docs = len(DL_body)\n",
        "sum_lengths = 0\n",
        "for val in DL_body.keys(): sum_lengths += DL_body[val]\n",
        "avgdl_body = sum_lengths / num_docs\n",
        "\n",
        "\n",
        "# title:\n",
        "def inverted_BM25_similaruty_title(query_tokens, index, k1=2, b=1):\n",
        "    N = 6348910  # num of documents in the curpus\n",
        "    similarity_dict = dict()  # doc_id : cosine similarity\n",
        "    for term in query_tokens:\n",
        "        if term in index.words:\n",
        "            posting_list = read_posting(term, index)\n",
        "            df = index.df[term]\n",
        "            q_i_IDF = np.log((N - df + 0.5) / (df + 0.5) + 1)\n",
        "            for doc_id, freq in posting_list:\n",
        "                if doc_id == 0:\n",
        "                    continue\n",
        "                f_ti_D = freq\n",
        "                len_of_D = DL_title[doc_id]\n",
        "                w = q_i_IDF * ((f_ti_D * (k1 + 1)) / (f_ti_D + k1 * (1 - b + b * (len_of_D / avgdl_title))))\n",
        "                similarity_dict[doc_id] = similarity_dict.get(doc_id, 0) + w\n",
        "    return similarity_dict\n",
        "\n",
        "\n",
        "# body:\n",
        "def inverted_BM25_similaruty_body(query_tokens, index, k1=1, b=0.22222):\n",
        "    N = 6348910  # num of documents in the curpus\n",
        "    similarity_dict = dict()  # doc_id : cosine similarity\n",
        "    for term in query_tokens:\n",
        "        if term in index.words:\n",
        "            posting_list = read_posting(term, index)\n",
        "            df = index.df[term]\n",
        "            q_i_IDF = np.log((N - df + 0.5) / (df + 0.5) + 1)\n",
        "            for doc_id, freq in posting_list:\n",
        "                if doc_id == 0:\n",
        "                    continue\n",
        "                f_ti_D = freq\n",
        "                len_of_D = DL_body[doc_id]\n",
        "                w = q_i_IDF * ((f_ti_D * (k1 + 1)) / (f_ti_D + k1 * (1 - b + b * (len_of_D / avgdl_body))))\n",
        "                similarity_dict[doc_id] = similarity_dict.get(doc_id, 0) + w\n",
        "    return similarity_dict\n",
        "\n",
        "\n",
        "# anchor:\n",
        "def search_anchor_for_opt(query_tokens, index):\n",
        "    relavent_docs = {}\n",
        "    for term in np.unique(query_tokens):\n",
        "        if term in index.words:\n",
        "            list_of_docs = read_posting(term, index)\n",
        "            for dest_id, flag in list_of_docs:\n",
        "                if dest_id == 0:\n",
        "                    continue\n",
        "                relavent_docs[dest_id] = relavent_docs.get(dest_id, 0) + 10\n",
        "    return relavent_docs\n",
        "\n",
        "\n",
        "# page views:\n",
        "norm_pageviews_dict = dict()\n",
        "for page in pageviews_dict:\n",
        "    norm_pageviews_dict[page] = pageviews_dict[page] ** (0.25) / 3\n",
        "\n",
        "# page rank:\n",
        "norm_pagerank_dict = dict()\n",
        "for page in pagerank_dict:\n",
        "    norm_pagerank_dict[page] = np.sqrt(pagerank_dict[page]) / 3\n",
        "\n",
        "# weights_dict:\n",
        "weights_dict = {\"title\": 1, \"body\": 1,\n",
        "                \"anchor\": 1/3, \"pageview\": 2/3, \"pagerank\": 1/3}\n",
        "\n",
        "\n",
        "# merge:\n",
        "def merge_results(scores_dict, weights_dict):\n",
        "    # united for query: [(doc_id, united_score)]\n",
        "    united_list = []\n",
        "    score_types = list(scores_dict.keys())\n",
        "    # all relevant docs for query:\n",
        "    doc_ids = set()\n",
        "    for score_type in score_types:\n",
        "        if score_type in [\"pageview\", \"pagerank\"]:\n",
        "            continue\n",
        "        else:\n",
        "            doc_ids = doc_ids.union(set(scores_dict[score_type].keys()))\n",
        "    # calc united score\n",
        "    for doc_id in doc_ids:\n",
        "        doc_united_score = 0\n",
        "        for score_type in score_types:\n",
        "            w = weights_dict[score_type]\n",
        "            if doc_id in scores_dict[score_type]:\n",
        "                doc_united_score += scores_dict[score_type][doc_id] * w\n",
        "        united_list.append((doc_id, doc_united_score))\n",
        "    # sort:\n",
        "    united_list_sorted = sorted(united_list, key=lambda x: -x[1])[:to_return]\n",
        "    return united_list_sorted\n"
      ],
      "metadata": {
        "id": "GXFYdg1EyH1-"
      },
      "execution_count": 19,
      "outputs": []
    },
    {
      "cell_type": "code",
      "source": [
        "import time\n",
        "from builtins import *\n",
        "\n",
        "weights_dict = {\"title\": 1, \"body\": 1,\n",
        "                \"anchor\": 1/3, \"pageview\": 2/3, \"pagerank\": 1/3}\n",
        "ans_map = []\n",
        "ans_time = []\n",
        "for query in queries_to_relavent_docs:\n",
        "  t = time.time()\n",
        "  query_tokens = query_preprosess(query)\n",
        "  predicted_list = search_backend(query_tokens)\n",
        "  tt = time.time()-t\n",
        "  true_list = queries_to_relavent_docs[query]\n",
        "  ans_map.append((query, round(average_precision(true_list,predicted_list,40), 3)))\n",
        "  ans_time.append((query, round(tt, 3)))\n",
        "  # print(query, \":\")\n",
        "  # print(\"MAP:\", round(average_precision(true_list,predicted_list,40), 3))\n",
        "  # print(\"TIME\",round(tt, 3))\n",
        "ans_map = sorted(ans_map, key = lambda x: -x[1])\n",
        "ans_time = sorted(ans_time, key = lambda x: -x[1])\n",
        "for i in ans_map:\n",
        "  print(i)\n",
        "print(\"+++++++++++++++++++++++++++++++++\")\n",
        "for i in ans_time:\n",
        "  print(i)"
      ],
      "metadata": {
        "colab": {
          "base_uri": "https://localhost:8080/"
        },
        "id": "G1x8sSzAyOK4",
        "outputId": "e107ba67-9578-4883-bf1d-c8f4ee835f72"
      },
      "execution_count": 28,
      "outputs": [
        {
          "output_type": "stream",
          "name": "stdout",
          "text": [
            "('migraine', 0.986)\n",
            "('yoga', 0.882)\n",
            "('python', 0.866)\n",
            "('ted', 0.827)\n",
            "('masks', 0.765)\n",
            "('chocolate', 0.738)\n",
            "('NBA', 0.705)\n",
            "('how google works', 0.623)\n",
            "('michelin', 0.607)\n",
            "('where does vanilla flavoring come from', 0.559)\n",
            "('how to make pasta', 0.526)\n",
            "('how to tie a tie', 0.492)\n",
            "('how to vote', 0.458)\n",
            "('fairy tale', 0.448)\n",
            "('what is critical race theory', 0.3)\n",
            "('rubber duck', 0.295)\n",
            "('how to not kill plants', 0.288)\n",
            "('data science', 0.28)\n",
            "('how to earn money online', 0.267)\n",
            "('dim sum', 0.216)\n",
            "('how tall is the eiffel tower', 0.206)\n",
            "('what to watch', 0.204)\n",
            "('Does pasta have preservatives?', 0.167)\n",
            "('google trends', 0.124)\n",
            "('what is information retrieval', 0.121)\n",
            "('best ice cream flavour', 0.056)\n",
            "('black friday', 0.046)\n",
            "('what space movie was made in 1992', 0.037)\n",
            "('best marvel movie', 0.029)\n",
            "('why do men have nipples', 0.0)\n",
            "+++++++++++++++++++++++++++++++++\n",
            "('what space movie was made in 1992', 26.277)\n",
            "('best ice cream flavour', 13.074)\n",
            "('best marvel movie', 12.982)\n",
            "('black friday', 8.312)\n",
            "('how google works', 6.967)\n",
            "('what is critical race theory', 6.592)\n",
            "('data science', 6.17)\n",
            "('how to make pasta', 5.468)\n",
            "('how to earn money online', 5.407)\n",
            "('what is information retrieval', 5.202)\n",
            "('where does vanilla flavoring come from', 4.098)\n",
            "('why do men have nipples', 3.786)\n",
            "('how tall is the eiffel tower', 3.175)\n",
            "('how to not kill plants', 2.654)\n",
            "('rubber duck', 2.083)\n",
            "('how to vote', 1.901)\n",
            "('google trends', 1.499)\n",
            "('how to tie a tie', 1.49)\n",
            "('fairy tale', 1.433)\n",
            "('Does pasta have preservatives?', 1.42)\n",
            "('migraine', 1.295)\n",
            "('what to watch', 1.222)\n",
            "('dim sum', 1.222)\n",
            "('chocolate', 1.104)\n",
            "('NBA', 1.032)\n",
            "('ted', 0.92)\n",
            "('masks', 0.851)\n",
            "('yoga', 0.814)\n",
            "('python', 0.809)\n",
            "('michelin', 0.619)\n"
          ]
        }
      ]
    },
    {
      "cell_type": "code",
      "source": [
        "sumi / len(train_queries)"
      ],
      "metadata": {
        "colab": {
          "base_uri": "https://localhost:8080/"
        },
        "id": "Vo7S5Jhx2eKw",
        "outputId": "9dd61362-d5b6-4ccc-fe0f-c1108d4fd91e"
      },
      "execution_count": 104,
      "outputs": [
        {
          "output_type": "execute_result",
          "data": {
            "text/plain": [
              "3.541758668422699"
            ]
          },
          "metadata": {},
          "execution_count": 104
        }
      ]
    },
    {
      "cell_type": "markdown",
      "metadata": {
        "id": "NeIWfSiBpnGI"
      },
      "source": [
        "anchor"
      ]
    }
  ],
  "metadata": {
    "colab": {
      "collapsed_sections": [],
      "name": "tom_index_and_functions.ipynb",
      "provenance": [],
      "toc_visible": true
    },
    "kernelspec": {
      "display_name": "Python 3",
      "name": "python3"
    },
    "language_info": {
      "name": "python"
    }
  },
  "nbformat": 4,
  "nbformat_minor": 0
}